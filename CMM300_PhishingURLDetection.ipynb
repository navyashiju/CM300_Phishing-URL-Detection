{
  "nbformat": 4,
  "nbformat_minor": 0,
  "metadata": {
    "colab": {
      "provenance": [],
      "toc_visible": true
    },
    "kernelspec": {
      "name": "python3",
      "display_name": "Python 3"
    },
    "language_info": {
      "name": "python"
    }
  },
  "cells": [
    {
      "cell_type": "markdown",
      "source": [
        "# **Think Before You Click: A Machine Learning Approach to Phishing URL Detection**"
      ],
      "metadata": {
        "id": "YdmPWylAuiA1"
      }
    },
    {
      "cell_type": "markdown",
      "source": [
        "In today’s digital climate, where an increasing amount of people are using the Internet as a\n",
        "platform to make online transactions, network, etc., cybersecurity has\n",
        "risen to the forefront as a critical issue for individuals, businesses, and governments alike. Among\n",
        "the vast variety of cyber threats, phishing remains one of the most prevalent and damaging attack\n",
        "vectors, as agreed by the Information Commissioner’s Office, and while anyone can be the\n",
        "victim of phishing, attackers are looking for high value returns, and therefore, large corporations\n",
        "are often the most targete. They account for 75% of all attacks, in 2022, which led to $2.7\n",
        "billion in losses as shown in the FBI’s Internet Crime Report.\n",
        "\n",
        "\n",
        "The detection of phishing URLs has become an important area of research within the\n",
        "cybersecurity community, as “traditional methods for detecting phishing websites, such as\n",
        "blacklist-based approaches, heuristic analysis, and rule-based systems, have become increasingly ineffective in combating these evolving threats”, (Chy & Hasan, 2024). Machine\n",
        "learning (ML) surfaced as a promising solution within cybersecurity,\n",
        "offering the capability to detect phishing attempts with increased accuracy and adaptability.\n",
        "These technologies enable the analysis of vast datasets to identify patterns and anomalies in\n",
        "URLs.\n",
        "\n",
        "The research questions that aim to be answered within this body of work are:\n",
        "1. How will a hybrid machine learning model perform in terms of real-time efficiency\n",
        "when compared to individually trained models?\n",
        "2. Which Machine Learning models will have the highest accuracy in predicting the\n",
        "authenticity of a Phishing URL?"
      ],
      "metadata": {
        "id": "PqFXDgam-mVb"
      }
    },
    {
      "cell_type": "markdown",
      "source": [
        "The dataset used within this study was sourced from Kaggle:\n",
        "\n",
        "https://www.kaggle.com/datasets/shashwatwork/web-page-phishing-detection-dataset?resource=download\n",
        "\n",
        "This dataset includes 11,430 URLs, each with 87 extracted features, that is evenly distributed between phishing and legitimate classes (50% each), making it suitable for binary classification tasks. The dataset includes features extracted from three sources. 56 features are based on the structure and syntax of URLs, 24 features are extracted from the content of corresponding webpages and 7 features come from querying external services."
      ],
      "metadata": {
        "id": "VKpxhrjuA82T"
      }
    },
    {
      "cell_type": "markdown",
      "source": [
        "## Pre-Processing Stage"
      ],
      "metadata": {
        "id": "HwCw-_FJu3w1"
      }
    },
    {
      "cell_type": "markdown",
      "source": [
        "The initial stage of the implementation involved preprocessing the dataset, which consisted of 11,430 labelled URLs with 87 extracted features. Since the aim of the project was to develop a phishing URL detection system, only features that directly corresponded to the structure and syntax of URLs were selected for training. These accounted for 56 of the 87 features and were extracted from the original dataset using column filtering techniques, explicitly excluding the 24 features extracted from the content of the corresponding webpages and the 7 features obtained by querying external services. This design decision ensured that the detection model could operate without relying on additional web content or network requests.\n",
        "\n",
        "To prepare the dataset for training, labels indicating phishing or legitimate URLs were assigned in binary format, where phishing was represented as 1 and legitimate as 0. The dataset was then split into training and testing subsets using the train_test_split() function, with 80% of the data allocated for training and 20% reserved for testing. The split was stratified using the stratify=y parameter to ensure the 50:50 class balance remained in both subsets.\n"
      ],
      "metadata": {
        "id": "iPhvvSRbGN4z"
      }
    },
    {
      "cell_type": "code",
      "source": [
        "#importing necessary libraries and functions required within this project\n",
        "import pandas as pd\n",
        "import io\n",
        "import numpy as np\n",
        "import matplotlib.pyplot as plt\n",
        "import time\n",
        "\n",
        "from sklearn.preprocessing import LabelEncoder\n",
        "from sklearn.model_selection import train_test_split\n",
        "from sklearn.preprocessing import StandardScaler\n",
        "from google.colab import files\n",
        "from sklearn.tree import DecisionTreeClassifier\n",
        "from sklearn.ensemble import RandomForestClassifier\n",
        "from sklearn.svm import SVC\n",
        "from sklearn.metrics import accuracy_score, precision_score, recall_score, f1_score, confusion_matrix\n",
        "from sklearn.model_selection import StratifiedKFold, cross_val_score\n",
        "from sklearn.model_selection import GridSearchCV\n",
        "from xgboost import XGBClassifier\n",
        "\n",
        "#loading in the dataset\n",
        "dataset = pd.read_csv('/content/dataset_phishing.csv', encoding='latin-1')"
      ],
      "metadata": {
        "id": "cIQTPhmccF4_"
      },
      "execution_count": null,
      "outputs": []
    },
    {
      "cell_type": "code",
      "source": [
        "#displaying basic info about the dataset\n",
        "print(\"Dataset Loaded Successfully!\")\n",
        "print(dataset.info())  #checking column types and missing values"
      ],
      "metadata": {
        "colab": {
          "base_uri": "https://localhost:8080/"
        },
        "id": "hpJNUUCze12V",
        "outputId": "692b82d1-4d38-4251-fe62-573a118ab4d7"
      },
      "execution_count": null,
      "outputs": [
        {
          "output_type": "stream",
          "name": "stdout",
          "text": [
            "Dataset Loaded Successfully!\n",
            "<class 'pandas.core.frame.DataFrame'>\n",
            "RangeIndex: 11430 entries, 0 to 11429\n",
            "Data columns (total 89 columns):\n",
            " #   Column                      Non-Null Count  Dtype  \n",
            "---  ------                      --------------  -----  \n",
            " 0   url                         11430 non-null  object \n",
            " 1   length_url                  11430 non-null  int64  \n",
            " 2   length_hostname             11430 non-null  int64  \n",
            " 3   ip                          11430 non-null  int64  \n",
            " 4   nb_dots                     11430 non-null  int64  \n",
            " 5   nb_hyphens                  11430 non-null  int64  \n",
            " 6   nb_at                       11430 non-null  int64  \n",
            " 7   nb_qm                       11430 non-null  int64  \n",
            " 8   nb_and                      11430 non-null  int64  \n",
            " 9   nb_or                       11430 non-null  int64  \n",
            " 10  nb_eq                       11430 non-null  int64  \n",
            " 11  nb_underscore               11430 non-null  int64  \n",
            " 12  nb_tilde                    11430 non-null  int64  \n",
            " 13  nb_percent                  11430 non-null  int64  \n",
            " 14  nb_slash                    11430 non-null  int64  \n",
            " 15  nb_star                     11430 non-null  int64  \n",
            " 16  nb_colon                    11430 non-null  int64  \n",
            " 17  nb_comma                    11430 non-null  int64  \n",
            " 18  nb_semicolumn               11430 non-null  int64  \n",
            " 19  nb_dollar                   11430 non-null  int64  \n",
            " 20  nb_space                    11430 non-null  int64  \n",
            " 21  nb_www                      11430 non-null  int64  \n",
            " 22  nb_com                      11430 non-null  int64  \n",
            " 23  nb_dslash                   11430 non-null  int64  \n",
            " 24  http_in_path                11430 non-null  int64  \n",
            " 25  https_token                 11430 non-null  int64  \n",
            " 26  ratio_digits_url            11430 non-null  float64\n",
            " 27  ratio_digits_host           11430 non-null  float64\n",
            " 28  punycode                    11430 non-null  int64  \n",
            " 29  port                        11430 non-null  int64  \n",
            " 30  tld_in_path                 11430 non-null  int64  \n",
            " 31  tld_in_subdomain            11430 non-null  int64  \n",
            " 32  abnormal_subdomain          11430 non-null  int64  \n",
            " 33  nb_subdomains               11430 non-null  int64  \n",
            " 34  prefix_suffix               11430 non-null  int64  \n",
            " 35  random_domain               11430 non-null  int64  \n",
            " 36  shortening_service          11430 non-null  int64  \n",
            " 37  path_extension              11430 non-null  int64  \n",
            " 38  nb_redirection              11430 non-null  int64  \n",
            " 39  nb_external_redirection     11430 non-null  int64  \n",
            " 40  length_words_raw            11430 non-null  int64  \n",
            " 41  char_repeat                 11430 non-null  int64  \n",
            " 42  shortest_words_raw          11430 non-null  int64  \n",
            " 43  shortest_word_host          11430 non-null  int64  \n",
            " 44  shortest_word_path          11430 non-null  int64  \n",
            " 45  longest_words_raw           11430 non-null  int64  \n",
            " 46  longest_word_host           11430 non-null  int64  \n",
            " 47  longest_word_path           11430 non-null  int64  \n",
            " 48  avg_words_raw               11430 non-null  float64\n",
            " 49  avg_word_host               11430 non-null  float64\n",
            " 50  avg_word_path               11430 non-null  float64\n",
            " 51  phish_hints                 11430 non-null  int64  \n",
            " 52  domain_in_brand             11430 non-null  int64  \n",
            " 53  brand_in_subdomain          11430 non-null  int64  \n",
            " 54  brand_in_path               11430 non-null  int64  \n",
            " 55  suspecious_tld              11430 non-null  int64  \n",
            " 56  statistical_report          11430 non-null  int64  \n",
            " 57  nb_hyperlinks               11430 non-null  int64  \n",
            " 58  ratio_intHyperlinks         11430 non-null  float64\n",
            " 59  ratio_extHyperlinks         11430 non-null  float64\n",
            " 60  ratio_nullHyperlinks        11430 non-null  int64  \n",
            " 61  nb_extCSS                   11430 non-null  int64  \n",
            " 62  ratio_intRedirection        11430 non-null  int64  \n",
            " 63  ratio_extRedirection        11430 non-null  float64\n",
            " 64  ratio_intErrors             11430 non-null  int64  \n",
            " 65  ratio_extErrors             11430 non-null  float64\n",
            " 66  login_form                  11430 non-null  int64  \n",
            " 67  external_favicon            11430 non-null  int64  \n",
            " 68  links_in_tags               11430 non-null  float64\n",
            " 69  submit_email                11430 non-null  int64  \n",
            " 70  ratio_intMedia              11430 non-null  float64\n",
            " 71  ratio_extMedia              11430 non-null  float64\n",
            " 72  sfh                         11430 non-null  int64  \n",
            " 73  iframe                      11430 non-null  int64  \n",
            " 74  popup_window                11430 non-null  int64  \n",
            " 75  safe_anchor                 11430 non-null  float64\n",
            " 76  onmouseover                 11430 non-null  int64  \n",
            " 77  right_clic                  11430 non-null  int64  \n",
            " 78  empty_title                 11430 non-null  int64  \n",
            " 79  domain_in_title             11430 non-null  int64  \n",
            " 80  domain_with_copyright       11430 non-null  int64  \n",
            " 81  whois_registered_domain     11430 non-null  int64  \n",
            " 82  domain_registration_length  11430 non-null  int64  \n",
            " 83  domain_age                  11430 non-null  int64  \n",
            " 84  web_traffic                 11430 non-null  int64  \n",
            " 85  dns_record                  11430 non-null  int64  \n",
            " 86  google_index                11430 non-null  int64  \n",
            " 87  page_rank                   11430 non-null  int64  \n",
            " 88  status                      11430 non-null  object \n",
            "dtypes: float64(13), int64(74), object(2)\n",
            "memory usage: 7.8+ MB\n",
            "None\n"
          ]
        }
      ]
    },
    {
      "cell_type": "code",
      "source": [
        "#displaying 100 random rows to get a good understanding of the dataset\n",
        "dataset.sample(100)"
      ],
      "metadata": {
        "colab": {
          "base_uri": "https://localhost:8080/",
          "height": 478
        },
        "id": "9wgWBbGHgE99",
        "outputId": "d22eab7e-7ba4-47c7-eb6c-00f6772fb9a3"
      },
      "execution_count": null,
      "outputs": [
        {
          "output_type": "execute_result",
          "data": {
            "text/plain": [
              "                                                     url  length_url  \\\n",
              "236               http://www.ghbook.ir/index.php?lang=fa          38   \n",
              "3305                             http://www.my-car.info/          23   \n",
              "3414   http://cbu4397422nj.oa.r.appspot.com/jim@theji...          62   \n",
              "4437                          http://timeless-uptime.sr/          26   \n",
              "9297                          https://www.cranepi.com/en          26   \n",
              "...                                                  ...         ...   \n",
              "10563        https://sites.google.com/view/supayu/inicio          43   \n",
              "4371   http://www.madehow.com/Volume-1/Compact-Disc.html          49   \n",
              "10372                               http://provk.aiq.ru/          20   \n",
              "5660   http://www.rivasciudad.es/portal/home.jsp?codR...          51   \n",
              "2688                        http://www.princehotels.com/          28   \n",
              "\n",
              "       length_hostname  ip  nb_dots  nb_hyphens  nb_at  nb_qm  nb_and  nb_or  \\\n",
              "236                 13   0        3           0      0      1       0      0   \n",
              "3305                15   0        2           1      0      0       0      0   \n",
              "3414                29   1        5           0      1      0       0      0   \n",
              "4437                18   0        1           1      0      0       0      0   \n",
              "9297                15   0        2           0      0      0       0      0   \n",
              "...                ...  ..      ...         ...    ...    ...     ...    ...   \n",
              "10563               16   0        2           0      0      0       0      0   \n",
              "4371                15   0        3           2      0      0       0      0   \n",
              "10372               12   0        2           0      0      0       0      0   \n",
              "5660                18   0        3           0      0      1       0      0   \n",
              "2688                20   0        2           0      0      0       0      0   \n",
              "\n",
              "       ...  domain_in_title  domain_with_copyright  whois_registered_domain  \\\n",
              "236    ...                1                      1                        1   \n",
              "3305   ...                0                      0                        0   \n",
              "3414   ...                1                      1                        0   \n",
              "4437   ...                1                      0                        1   \n",
              "9297   ...                1                      1                        0   \n",
              "...    ...              ...                    ...                      ...   \n",
              "10563  ...                1                      1                        0   \n",
              "4371   ...                1                      1                        0   \n",
              "10372  ...                1                      1                        0   \n",
              "5660   ...                1                      1                        1   \n",
              "2688   ...                1                      1                        0   \n",
              "\n",
              "       domain_registration_length  domain_age  web_traffic  dns_record  \\\n",
              "236                             0          -1        98458           0   \n",
              "3305                          198          -1            0           0   \n",
              "3414                          217        5626      2856134           0   \n",
              "4437                            0          -1            0           0   \n",
              "9297                         1242        2409      1324300           0   \n",
              "...                           ...         ...          ...         ...   \n",
              "10563                        2976        8346            1           0   \n",
              "4371                         2361        5308        55983           0   \n",
              "10372                         117        7188      2888357           0   \n",
              "5660                            0          -1      1068316           0   \n",
              "2688                          258        7046      1529478           0   \n",
              "\n",
              "       google_index  page_rank      status  \n",
              "236               0          4  legitimate  \n",
              "3305              0          1  legitimate  \n",
              "3414              1          5    phishing  \n",
              "4437              1          0    phishing  \n",
              "9297              0          3  legitimate  \n",
              "...             ...        ...         ...  \n",
              "10563             1         10    phishing  \n",
              "4371              0          5  legitimate  \n",
              "10372             1          1    phishing  \n",
              "5660              1          4  legitimate  \n",
              "2688              0          5  legitimate  \n",
              "\n",
              "[100 rows x 89 columns]"
            ],
            "text/html": [
              "\n",
              "  <div id=\"df-10127a45-41e8-47aa-8760-98092699487a\" class=\"colab-df-container\">\n",
              "    <div>\n",
              "<style scoped>\n",
              "    .dataframe tbody tr th:only-of-type {\n",
              "        vertical-align: middle;\n",
              "    }\n",
              "\n",
              "    .dataframe tbody tr th {\n",
              "        vertical-align: top;\n",
              "    }\n",
              "\n",
              "    .dataframe thead th {\n",
              "        text-align: right;\n",
              "    }\n",
              "</style>\n",
              "<table border=\"1\" class=\"dataframe\">\n",
              "  <thead>\n",
              "    <tr style=\"text-align: right;\">\n",
              "      <th></th>\n",
              "      <th>url</th>\n",
              "      <th>length_url</th>\n",
              "      <th>length_hostname</th>\n",
              "      <th>ip</th>\n",
              "      <th>nb_dots</th>\n",
              "      <th>nb_hyphens</th>\n",
              "      <th>nb_at</th>\n",
              "      <th>nb_qm</th>\n",
              "      <th>nb_and</th>\n",
              "      <th>nb_or</th>\n",
              "      <th>...</th>\n",
              "      <th>domain_in_title</th>\n",
              "      <th>domain_with_copyright</th>\n",
              "      <th>whois_registered_domain</th>\n",
              "      <th>domain_registration_length</th>\n",
              "      <th>domain_age</th>\n",
              "      <th>web_traffic</th>\n",
              "      <th>dns_record</th>\n",
              "      <th>google_index</th>\n",
              "      <th>page_rank</th>\n",
              "      <th>status</th>\n",
              "    </tr>\n",
              "  </thead>\n",
              "  <tbody>\n",
              "    <tr>\n",
              "      <th>236</th>\n",
              "      <td>http://www.ghbook.ir/index.php?lang=fa</td>\n",
              "      <td>38</td>\n",
              "      <td>13</td>\n",
              "      <td>0</td>\n",
              "      <td>3</td>\n",
              "      <td>0</td>\n",
              "      <td>0</td>\n",
              "      <td>1</td>\n",
              "      <td>0</td>\n",
              "      <td>0</td>\n",
              "      <td>...</td>\n",
              "      <td>1</td>\n",
              "      <td>1</td>\n",
              "      <td>1</td>\n",
              "      <td>0</td>\n",
              "      <td>-1</td>\n",
              "      <td>98458</td>\n",
              "      <td>0</td>\n",
              "      <td>0</td>\n",
              "      <td>4</td>\n",
              "      <td>legitimate</td>\n",
              "    </tr>\n",
              "    <tr>\n",
              "      <th>3305</th>\n",
              "      <td>http://www.my-car.info/</td>\n",
              "      <td>23</td>\n",
              "      <td>15</td>\n",
              "      <td>0</td>\n",
              "      <td>2</td>\n",
              "      <td>1</td>\n",
              "      <td>0</td>\n",
              "      <td>0</td>\n",
              "      <td>0</td>\n",
              "      <td>0</td>\n",
              "      <td>...</td>\n",
              "      <td>0</td>\n",
              "      <td>0</td>\n",
              "      <td>0</td>\n",
              "      <td>198</td>\n",
              "      <td>-1</td>\n",
              "      <td>0</td>\n",
              "      <td>0</td>\n",
              "      <td>0</td>\n",
              "      <td>1</td>\n",
              "      <td>legitimate</td>\n",
              "    </tr>\n",
              "    <tr>\n",
              "      <th>3414</th>\n",
              "      <td>http://cbu4397422nj.oa.r.appspot.com/jim@theji...</td>\n",
              "      <td>62</td>\n",
              "      <td>29</td>\n",
              "      <td>1</td>\n",
              "      <td>5</td>\n",
              "      <td>0</td>\n",
              "      <td>1</td>\n",
              "      <td>0</td>\n",
              "      <td>0</td>\n",
              "      <td>0</td>\n",
              "      <td>...</td>\n",
              "      <td>1</td>\n",
              "      <td>1</td>\n",
              "      <td>0</td>\n",
              "      <td>217</td>\n",
              "      <td>5626</td>\n",
              "      <td>2856134</td>\n",
              "      <td>0</td>\n",
              "      <td>1</td>\n",
              "      <td>5</td>\n",
              "      <td>phishing</td>\n",
              "    </tr>\n",
              "    <tr>\n",
              "      <th>4437</th>\n",
              "      <td>http://timeless-uptime.sr/</td>\n",
              "      <td>26</td>\n",
              "      <td>18</td>\n",
              "      <td>0</td>\n",
              "      <td>1</td>\n",
              "      <td>1</td>\n",
              "      <td>0</td>\n",
              "      <td>0</td>\n",
              "      <td>0</td>\n",
              "      <td>0</td>\n",
              "      <td>...</td>\n",
              "      <td>1</td>\n",
              "      <td>0</td>\n",
              "      <td>1</td>\n",
              "      <td>0</td>\n",
              "      <td>-1</td>\n",
              "      <td>0</td>\n",
              "      <td>0</td>\n",
              "      <td>1</td>\n",
              "      <td>0</td>\n",
              "      <td>phishing</td>\n",
              "    </tr>\n",
              "    <tr>\n",
              "      <th>9297</th>\n",
              "      <td>https://www.cranepi.com/en</td>\n",
              "      <td>26</td>\n",
              "      <td>15</td>\n",
              "      <td>0</td>\n",
              "      <td>2</td>\n",
              "      <td>0</td>\n",
              "      <td>0</td>\n",
              "      <td>0</td>\n",
              "      <td>0</td>\n",
              "      <td>0</td>\n",
              "      <td>...</td>\n",
              "      <td>1</td>\n",
              "      <td>1</td>\n",
              "      <td>0</td>\n",
              "      <td>1242</td>\n",
              "      <td>2409</td>\n",
              "      <td>1324300</td>\n",
              "      <td>0</td>\n",
              "      <td>0</td>\n",
              "      <td>3</td>\n",
              "      <td>legitimate</td>\n",
              "    </tr>\n",
              "    <tr>\n",
              "      <th>...</th>\n",
              "      <td>...</td>\n",
              "      <td>...</td>\n",
              "      <td>...</td>\n",
              "      <td>...</td>\n",
              "      <td>...</td>\n",
              "      <td>...</td>\n",
              "      <td>...</td>\n",
              "      <td>...</td>\n",
              "      <td>...</td>\n",
              "      <td>...</td>\n",
              "      <td>...</td>\n",
              "      <td>...</td>\n",
              "      <td>...</td>\n",
              "      <td>...</td>\n",
              "      <td>...</td>\n",
              "      <td>...</td>\n",
              "      <td>...</td>\n",
              "      <td>...</td>\n",
              "      <td>...</td>\n",
              "      <td>...</td>\n",
              "      <td>...</td>\n",
              "    </tr>\n",
              "    <tr>\n",
              "      <th>10563</th>\n",
              "      <td>https://sites.google.com/view/supayu/inicio</td>\n",
              "      <td>43</td>\n",
              "      <td>16</td>\n",
              "      <td>0</td>\n",
              "      <td>2</td>\n",
              "      <td>0</td>\n",
              "      <td>0</td>\n",
              "      <td>0</td>\n",
              "      <td>0</td>\n",
              "      <td>0</td>\n",
              "      <td>...</td>\n",
              "      <td>1</td>\n",
              "      <td>1</td>\n",
              "      <td>0</td>\n",
              "      <td>2976</td>\n",
              "      <td>8346</td>\n",
              "      <td>1</td>\n",
              "      <td>0</td>\n",
              "      <td>1</td>\n",
              "      <td>10</td>\n",
              "      <td>phishing</td>\n",
              "    </tr>\n",
              "    <tr>\n",
              "      <th>4371</th>\n",
              "      <td>http://www.madehow.com/Volume-1/Compact-Disc.html</td>\n",
              "      <td>49</td>\n",
              "      <td>15</td>\n",
              "      <td>0</td>\n",
              "      <td>3</td>\n",
              "      <td>2</td>\n",
              "      <td>0</td>\n",
              "      <td>0</td>\n",
              "      <td>0</td>\n",
              "      <td>0</td>\n",
              "      <td>...</td>\n",
              "      <td>1</td>\n",
              "      <td>1</td>\n",
              "      <td>0</td>\n",
              "      <td>2361</td>\n",
              "      <td>5308</td>\n",
              "      <td>55983</td>\n",
              "      <td>0</td>\n",
              "      <td>0</td>\n",
              "      <td>5</td>\n",
              "      <td>legitimate</td>\n",
              "    </tr>\n",
              "    <tr>\n",
              "      <th>10372</th>\n",
              "      <td>http://provk.aiq.ru/</td>\n",
              "      <td>20</td>\n",
              "      <td>12</td>\n",
              "      <td>0</td>\n",
              "      <td>2</td>\n",
              "      <td>0</td>\n",
              "      <td>0</td>\n",
              "      <td>0</td>\n",
              "      <td>0</td>\n",
              "      <td>0</td>\n",
              "      <td>...</td>\n",
              "      <td>1</td>\n",
              "      <td>1</td>\n",
              "      <td>0</td>\n",
              "      <td>117</td>\n",
              "      <td>7188</td>\n",
              "      <td>2888357</td>\n",
              "      <td>0</td>\n",
              "      <td>1</td>\n",
              "      <td>1</td>\n",
              "      <td>phishing</td>\n",
              "    </tr>\n",
              "    <tr>\n",
              "      <th>5660</th>\n",
              "      <td>http://www.rivasciudad.es/portal/home.jsp?codR...</td>\n",
              "      <td>51</td>\n",
              "      <td>18</td>\n",
              "      <td>0</td>\n",
              "      <td>3</td>\n",
              "      <td>0</td>\n",
              "      <td>0</td>\n",
              "      <td>1</td>\n",
              "      <td>0</td>\n",
              "      <td>0</td>\n",
              "      <td>...</td>\n",
              "      <td>1</td>\n",
              "      <td>1</td>\n",
              "      <td>1</td>\n",
              "      <td>0</td>\n",
              "      <td>-1</td>\n",
              "      <td>1068316</td>\n",
              "      <td>0</td>\n",
              "      <td>1</td>\n",
              "      <td>4</td>\n",
              "      <td>legitimate</td>\n",
              "    </tr>\n",
              "    <tr>\n",
              "      <th>2688</th>\n",
              "      <td>http://www.princehotels.com/</td>\n",
              "      <td>28</td>\n",
              "      <td>20</td>\n",
              "      <td>0</td>\n",
              "      <td>2</td>\n",
              "      <td>0</td>\n",
              "      <td>0</td>\n",
              "      <td>0</td>\n",
              "      <td>0</td>\n",
              "      <td>0</td>\n",
              "      <td>...</td>\n",
              "      <td>1</td>\n",
              "      <td>1</td>\n",
              "      <td>0</td>\n",
              "      <td>258</td>\n",
              "      <td>7046</td>\n",
              "      <td>1529478</td>\n",
              "      <td>0</td>\n",
              "      <td>0</td>\n",
              "      <td>5</td>\n",
              "      <td>legitimate</td>\n",
              "    </tr>\n",
              "  </tbody>\n",
              "</table>\n",
              "<p>100 rows × 89 columns</p>\n",
              "</div>\n",
              "    <div class=\"colab-df-buttons\">\n",
              "\n",
              "  <div class=\"colab-df-container\">\n",
              "    <button class=\"colab-df-convert\" onclick=\"convertToInteractive('df-10127a45-41e8-47aa-8760-98092699487a')\"\n",
              "            title=\"Convert this dataframe to an interactive table.\"\n",
              "            style=\"display:none;\">\n",
              "\n",
              "  <svg xmlns=\"http://www.w3.org/2000/svg\" height=\"24px\" viewBox=\"0 -960 960 960\">\n",
              "    <path d=\"M120-120v-720h720v720H120Zm60-500h600v-160H180v160Zm220 220h160v-160H400v160Zm0 220h160v-160H400v160ZM180-400h160v-160H180v160Zm440 0h160v-160H620v160ZM180-180h160v-160H180v160Zm440 0h160v-160H620v160Z\"/>\n",
              "  </svg>\n",
              "    </button>\n",
              "\n",
              "  <style>\n",
              "    .colab-df-container {\n",
              "      display:flex;\n",
              "      gap: 12px;\n",
              "    }\n",
              "\n",
              "    .colab-df-convert {\n",
              "      background-color: #E8F0FE;\n",
              "      border: none;\n",
              "      border-radius: 50%;\n",
              "      cursor: pointer;\n",
              "      display: none;\n",
              "      fill: #1967D2;\n",
              "      height: 32px;\n",
              "      padding: 0 0 0 0;\n",
              "      width: 32px;\n",
              "    }\n",
              "\n",
              "    .colab-df-convert:hover {\n",
              "      background-color: #E2EBFA;\n",
              "      box-shadow: 0px 1px 2px rgba(60, 64, 67, 0.3), 0px 1px 3px 1px rgba(60, 64, 67, 0.15);\n",
              "      fill: #174EA6;\n",
              "    }\n",
              "\n",
              "    .colab-df-buttons div {\n",
              "      margin-bottom: 4px;\n",
              "    }\n",
              "\n",
              "    [theme=dark] .colab-df-convert {\n",
              "      background-color: #3B4455;\n",
              "      fill: #D2E3FC;\n",
              "    }\n",
              "\n",
              "    [theme=dark] .colab-df-convert:hover {\n",
              "      background-color: #434B5C;\n",
              "      box-shadow: 0px 1px 3px 1px rgba(0, 0, 0, 0.15);\n",
              "      filter: drop-shadow(0px 1px 2px rgba(0, 0, 0, 0.3));\n",
              "      fill: #FFFFFF;\n",
              "    }\n",
              "  </style>\n",
              "\n",
              "    <script>\n",
              "      const buttonEl =\n",
              "        document.querySelector('#df-10127a45-41e8-47aa-8760-98092699487a button.colab-df-convert');\n",
              "      buttonEl.style.display =\n",
              "        google.colab.kernel.accessAllowed ? 'block' : 'none';\n",
              "\n",
              "      async function convertToInteractive(key) {\n",
              "        const element = document.querySelector('#df-10127a45-41e8-47aa-8760-98092699487a');\n",
              "        const dataTable =\n",
              "          await google.colab.kernel.invokeFunction('convertToInteractive',\n",
              "                                                    [key], {});\n",
              "        if (!dataTable) return;\n",
              "\n",
              "        const docLinkHtml = 'Like what you see? Visit the ' +\n",
              "          '<a target=\"_blank\" href=https://colab.research.google.com/notebooks/data_table.ipynb>data table notebook</a>'\n",
              "          + ' to learn more about interactive tables.';\n",
              "        element.innerHTML = '';\n",
              "        dataTable['output_type'] = 'display_data';\n",
              "        await google.colab.output.renderOutput(dataTable, element);\n",
              "        const docLink = document.createElement('div');\n",
              "        docLink.innerHTML = docLinkHtml;\n",
              "        element.appendChild(docLink);\n",
              "      }\n",
              "    </script>\n",
              "  </div>\n",
              "\n",
              "\n",
              "    <div id=\"df-6fb84cc7-dc29-41fe-a74c-836f4b2614e6\">\n",
              "      <button class=\"colab-df-quickchart\" onclick=\"quickchart('df-6fb84cc7-dc29-41fe-a74c-836f4b2614e6')\"\n",
              "                title=\"Suggest charts\"\n",
              "                style=\"display:none;\">\n",
              "\n",
              "<svg xmlns=\"http://www.w3.org/2000/svg\" height=\"24px\"viewBox=\"0 0 24 24\"\n",
              "     width=\"24px\">\n",
              "    <g>\n",
              "        <path d=\"M19 3H5c-1.1 0-2 .9-2 2v14c0 1.1.9 2 2 2h14c1.1 0 2-.9 2-2V5c0-1.1-.9-2-2-2zM9 17H7v-7h2v7zm4 0h-2V7h2v10zm4 0h-2v-4h2v4z\"/>\n",
              "    </g>\n",
              "</svg>\n",
              "      </button>\n",
              "\n",
              "<style>\n",
              "  .colab-df-quickchart {\n",
              "      --bg-color: #E8F0FE;\n",
              "      --fill-color: #1967D2;\n",
              "      --hover-bg-color: #E2EBFA;\n",
              "      --hover-fill-color: #174EA6;\n",
              "      --disabled-fill-color: #AAA;\n",
              "      --disabled-bg-color: #DDD;\n",
              "  }\n",
              "\n",
              "  [theme=dark] .colab-df-quickchart {\n",
              "      --bg-color: #3B4455;\n",
              "      --fill-color: #D2E3FC;\n",
              "      --hover-bg-color: #434B5C;\n",
              "      --hover-fill-color: #FFFFFF;\n",
              "      --disabled-bg-color: #3B4455;\n",
              "      --disabled-fill-color: #666;\n",
              "  }\n",
              "\n",
              "  .colab-df-quickchart {\n",
              "    background-color: var(--bg-color);\n",
              "    border: none;\n",
              "    border-radius: 50%;\n",
              "    cursor: pointer;\n",
              "    display: none;\n",
              "    fill: var(--fill-color);\n",
              "    height: 32px;\n",
              "    padding: 0;\n",
              "    width: 32px;\n",
              "  }\n",
              "\n",
              "  .colab-df-quickchart:hover {\n",
              "    background-color: var(--hover-bg-color);\n",
              "    box-shadow: 0 1px 2px rgba(60, 64, 67, 0.3), 0 1px 3px 1px rgba(60, 64, 67, 0.15);\n",
              "    fill: var(--button-hover-fill-color);\n",
              "  }\n",
              "\n",
              "  .colab-df-quickchart-complete:disabled,\n",
              "  .colab-df-quickchart-complete:disabled:hover {\n",
              "    background-color: var(--disabled-bg-color);\n",
              "    fill: var(--disabled-fill-color);\n",
              "    box-shadow: none;\n",
              "  }\n",
              "\n",
              "  .colab-df-spinner {\n",
              "    border: 2px solid var(--fill-color);\n",
              "    border-color: transparent;\n",
              "    border-bottom-color: var(--fill-color);\n",
              "    animation:\n",
              "      spin 1s steps(1) infinite;\n",
              "  }\n",
              "\n",
              "  @keyframes spin {\n",
              "    0% {\n",
              "      border-color: transparent;\n",
              "      border-bottom-color: var(--fill-color);\n",
              "      border-left-color: var(--fill-color);\n",
              "    }\n",
              "    20% {\n",
              "      border-color: transparent;\n",
              "      border-left-color: var(--fill-color);\n",
              "      border-top-color: var(--fill-color);\n",
              "    }\n",
              "    30% {\n",
              "      border-color: transparent;\n",
              "      border-left-color: var(--fill-color);\n",
              "      border-top-color: var(--fill-color);\n",
              "      border-right-color: var(--fill-color);\n",
              "    }\n",
              "    40% {\n",
              "      border-color: transparent;\n",
              "      border-right-color: var(--fill-color);\n",
              "      border-top-color: var(--fill-color);\n",
              "    }\n",
              "    60% {\n",
              "      border-color: transparent;\n",
              "      border-right-color: var(--fill-color);\n",
              "    }\n",
              "    80% {\n",
              "      border-color: transparent;\n",
              "      border-right-color: var(--fill-color);\n",
              "      border-bottom-color: var(--fill-color);\n",
              "    }\n",
              "    90% {\n",
              "      border-color: transparent;\n",
              "      border-bottom-color: var(--fill-color);\n",
              "    }\n",
              "  }\n",
              "</style>\n",
              "\n",
              "      <script>\n",
              "        async function quickchart(key) {\n",
              "          const quickchartButtonEl =\n",
              "            document.querySelector('#' + key + ' button');\n",
              "          quickchartButtonEl.disabled = true;  // To prevent multiple clicks.\n",
              "          quickchartButtonEl.classList.add('colab-df-spinner');\n",
              "          try {\n",
              "            const charts = await google.colab.kernel.invokeFunction(\n",
              "                'suggestCharts', [key], {});\n",
              "          } catch (error) {\n",
              "            console.error('Error during call to suggestCharts:', error);\n",
              "          }\n",
              "          quickchartButtonEl.classList.remove('colab-df-spinner');\n",
              "          quickchartButtonEl.classList.add('colab-df-quickchart-complete');\n",
              "        }\n",
              "        (() => {\n",
              "          let quickchartButtonEl =\n",
              "            document.querySelector('#df-6fb84cc7-dc29-41fe-a74c-836f4b2614e6 button');\n",
              "          quickchartButtonEl.style.display =\n",
              "            google.colab.kernel.accessAllowed ? 'block' : 'none';\n",
              "        })();\n",
              "      </script>\n",
              "    </div>\n",
              "\n",
              "    </div>\n",
              "  </div>\n"
            ],
            "application/vnd.google.colaboratory.intrinsic+json": {
              "type": "dataframe"
            }
          },
          "metadata": {},
          "execution_count": 4
        }
      ]
    },
    {
      "cell_type": "code",
      "source": [
        "#defining only the relevant URL-based features\n",
        "url_features = [\"length_url\", \"length_hostname\", \"nb_dots\", \"nb_hyphens\", \"nb_at\", \"nb_qm\", \"nb_and\", \"nb_or\", \"nb_slash\", \"nb_www\", \"nb_com\", \"tld_in_path\", \"tld_in_subdomain\", \"nb_subdomains\", \"prefix_suffix\", \"shortening_service\", \"nb_redirection\", \"nb_percent\", \"ratio_digits_url\", \"ratio_digits_host\", \"domain_in_title\", \"whois_registered_domain\", \"domain_registration_length\", \"domain_age\"]\n",
        "\n",
        "#keeping only the selected URL features and the target variable ('status')\n",
        "dataset = dataset[url_features + [\"status\"]]\n",
        "\n",
        "#printing the updated dataset shape\n",
        "print(\"Filtered Dataset Shape:\", dataset.shape)"
      ],
      "metadata": {
        "colab": {
          "base_uri": "https://localhost:8080/"
        },
        "id": "351dtLcMgdWt",
        "outputId": "b16da173-fa9d-4b66-a966-e8c75715be6f"
      },
      "execution_count": null,
      "outputs": [
        {
          "output_type": "stream",
          "name": "stdout",
          "text": [
            "Filtered Dataset Shape: (11430, 25)\n"
          ]
        }
      ]
    },
    {
      "cell_type": "code",
      "source": [
        "#encoding the target variable so that'legitimate' = 0 and 'phishing' = 1\n",
        "label_encoder = LabelEncoder()\n",
        "dataset[\"status\"] = label_encoder.fit_transform(dataset[\"status\"])\n",
        "\n",
        "#printing the value counts to ensure encoding was done correctly\n",
        "print(\"Target variable encoding:\")\n",
        "print(dataset[\"status\"].value_counts())"
      ],
      "metadata": {
        "colab": {
          "base_uri": "https://localhost:8080/"
        },
        "id": "o9wP3P37h-uW",
        "outputId": "239c6e67-ae4d-47c6-ccd3-b3390b46852f"
      },
      "execution_count": null,
      "outputs": [
        {
          "output_type": "stream",
          "name": "stdout",
          "text": [
            "Target variable encoding:\n",
            "status\n",
            "0    5715\n",
            "1    5715\n",
            "Name: count, dtype: int64\n"
          ]
        }
      ]
    },
    {
      "cell_type": "code",
      "source": [
        "#defining the feature matrix (X) and the target variable (y) for model training\n",
        "X = dataset.drop(\"status\", axis=1)\n",
        "y = dataset[\"status\"]\n",
        "\n",
        "#splitting the dataset into training (80%) and testing (20%) sets\n",
        "X_train, X_test, y_train, y_test = train_test_split(X, y, test_size=0.2, random_state=42, stratify=y)     #setting the random_state to 42 to ensure reproducibility\n",
        "\n",
        "#printing the shape of the splits\n",
        "print(\"Training Set Shape:\", X_train.shape)\n",
        "print(\"Testing Set Shape:\", X_test.shape)"
      ],
      "metadata": {
        "colab": {
          "base_uri": "https://localhost:8080/"
        },
        "id": "jyQGx8DPj-4R",
        "outputId": "6eed7aef-125a-4c9b-d673-741959ddfa41"
      },
      "execution_count": null,
      "outputs": [
        {
          "output_type": "stream",
          "name": "stdout",
          "text": [
            "Training Set Shape: (9144, 24)\n",
            "Testing Set Shape: (2286, 24)\n"
          ]
        }
      ]
    },
    {
      "cell_type": "code",
      "source": [
        "#initialising the StandardScaler to normalise the feature values by removing the mean and scaling it\n",
        "scaler = StandardScaler()\n",
        "\n",
        "#fitting and transforming the training data by learning the scaling parameters from the training set\n",
        "X_train_scaled = scaler.fit_transform(X_train)\n",
        "X_test_scaled = scaler.transform(X_test)  # Transform test data (no fitting)\n",
        "\n",
        "#converting back to DataFrame for readability\n",
        "X_train = pd.DataFrame(X_train_scaled, columns=X.columns)\n",
        "X_test = pd.DataFrame(X_test_scaled, columns=X.columns)\n",
        "\n",
        "print(\"Feature scaling complete!\")"
      ],
      "metadata": {
        "colab": {
          "base_uri": "https://localhost:8080/"
        },
        "id": "nJ_htAjopJDS",
        "outputId": "056c15cd-7165-4ca3-e4e7-d29fd873c21b"
      },
      "execution_count": null,
      "outputs": [
        {
          "output_type": "stream",
          "name": "stdout",
          "text": [
            "Feature scaling complete!\n"
          ]
        }
      ]
    },
    {
      "cell_type": "markdown",
      "source": [
        "## Implementation and Evaluation of Baseline Models"
      ],
      "metadata": {
        "id": "d-niqgP_7Ld-"
      }
    },
    {
      "cell_type": "markdown",
      "source": [
        "Following the pre-processing phase, three baseline machine learning models were implemented: Decision Tree, Random Forest, and Support Vector Machine. The Decision Tree was implemented using DecisionTreeClassifier(random_state=42), ensuring a simple structure that allows for early benchmarking. The Random Forest was initialised as RandomForestClassifier(n_estimators=100, random_state=42), as it utilised a collection of 100 decision trees to reduce variance and improve predictive stability. The SVM model was built using SVC(kernel='linear', probability=True, random_state=42). The use of a linear kernel ensured computational feasibility given the dimensionality of the data, while probability=True enabled the extraction of class probability estimates for following stacking operations."
      ],
      "metadata": {
        "id": "ZvXsTh9UGVhx"
      }
    },
    {
      "cell_type": "code",
      "source": [
        "#initialising the baseline models with a fixed random state for reproducibility\n",
        "decision_tree_model = DecisionTreeClassifier(random_state=42)\n",
        "random_forest_model = RandomForestClassifier(n_estimators=100, random_state=42)\n",
        "svm_model = SVC(kernel='linear', probability=True, random_state=42)\n",
        "\n",
        "#training the baseline models on the scaled training data\n",
        "decision_tree_model.fit(X_train, y_train)\n",
        "random_forest_model.fit(X_train, y_train)\n",
        "svm_model.fit(X_train, y_train)\n",
        "\n",
        "#implementing the function to evaluate models\n",
        "def evaluate_model(y_true, y_pred, model_name):\n",
        "    print(f\"{model_name} Evaluation\")\n",
        "    print(\"Accuracy:\", accuracy_score(y_true, y_pred))\n",
        "    print(\"Precision:\", precision_score(y_true, y_pred))\n",
        "    print(\"Recall:\", recall_score(y_true, y_pred))\n",
        "    print(\"F1-Score:\", f1_score(y_true, y_pred))\n",
        "\n",
        "#evaluating baseline models\n",
        "print(\"----- Baseline Model Evaluation -----\")\n",
        "evaluate_model(y_test, decision_tree_model.predict(X_test), \"\\nBaseline Decision Tree\")\n",
        "evaluate_model(y_test, random_forest_model.predict(X_test), \"\\nBaseline Random Forest\")\n",
        "evaluate_model(y_test, svm_model.predict(X_test), \"\\nBaseline SVM\")"
      ],
      "metadata": {
        "colab": {
          "base_uri": "https://localhost:8080/"
        },
        "id": "b3IFssol7egI",
        "outputId": "048128e9-5e9c-4b13-e30e-77272f1851f9"
      },
      "execution_count": null,
      "outputs": [
        {
          "output_type": "stream",
          "name": "stdout",
          "text": [
            "----- Baseline Model Evaluation -----\n",
            "\n",
            "Baseline Decision Tree Evaluation\n",
            "Accuracy: 0.8792650918635171\n",
            "Precision: 0.8766290182450044\n",
            "Recall: 0.8827646544181977\n",
            "F1-Score: 0.8796861377506539\n",
            "\n",
            "Baseline Random Forest Evaluation\n",
            "Accuracy: 0.9282589676290464\n",
            "Precision: 0.9223468507333908\n",
            "Recall: 0.9352580927384077\n",
            "F1-Score: 0.9287576020851434\n",
            "\n",
            "Baseline SVM Evaluation\n",
            "Accuracy: 0.8407699037620298\n",
            "Precision: 0.8331907613344739\n",
            "Recall: 0.8521434820647419\n",
            "F1-Score: 0.842560553633218\n"
          ]
        }
      ]
    },
    {
      "cell_type": "code",
      "source": [
        "#creating a bar graph to visualise the initial performance metrics of the models\n",
        "models = [\"Baseline Decision Tree\", \"Baseline Random Forest\", \"Baseline SVM\"]\n",
        "\n",
        "#setting the achieved baseline evaluation metrics\n",
        "accuracy = [0.8793, 0.9283, 0.8408]\n",
        "precision = [0.8766, 0.9223, 0.8332]\n",
        "recall = [0.8828, 0.9353, 0.8521]\n",
        "f1 = [0.8796, 0.9288, 0.8426]\n",
        "\n",
        "#setting the bar width\n",
        "bar_width = 0.2\n",
        "\n",
        "x = np.arange(len(models))\n",
        "\n",
        "#defining pretty colors for the bars\n",
        "colors = [\"#A7C7E7\", \"#FFB6C1\", \"#B5EAD7\", \"#FFC3A0\"]\n",
        "\n",
        "#creating the bar plot\n",
        "plt.figure(figsize=(10, 6))\n",
        "plt.bar(x - bar_width*1.5, accuracy, width=bar_width, label=\"Accuracy\", color='#A7C7E7')\n",
        "plt.bar(x - bar_width/2, precision, width=bar_width, label=\"Precision\", color='#FFB6C1')\n",
        "plt.bar(x + bar_width/2, recall, width=bar_width, label=\"Recall\", color='#B5EAD7')\n",
        "plt.bar(x + bar_width*1.5, f1, width=bar_width, label=\"F1-Score\", color='#FFC3A0')\n",
        "\n",
        "#setting the labels and formatting\n",
        "plt.xlabel(\"Baseline Models\", fontsize=12)\n",
        "plt.ylabel(\"Scores\", fontsize=12)\n",
        "plt.title(\"Baseline Model Performance Comparison\", fontsize=14)\n",
        "plt.xticks(ticks=x, labels=models, fontsize=12)\n",
        "plt.ylim(0.8, 1.0)\n",
        "plt.legend()\n",
        "plt.grid(axis=\"y\", linestyle=\"--\", alpha=0.7)\n",
        "\n",
        "#displaying the bar graph for the baseline metrics for the models\n",
        "plt.show()"
      ],
      "metadata": {
        "colab": {
          "base_uri": "https://localhost:8080/",
          "height": 573
        },
        "id": "PJ6AVX9raOPg",
        "outputId": "b61f2fa1-4e24-4531-e7d0-ae48ab99a182"
      },
      "execution_count": null,
      "outputs": [
        {
          "output_type": "display_data",
          "data": {
            "text/plain": [
              "<Figure size 1000x600 with 1 Axes>"
            ],
            "image/png": "[encoded data removed]"
          },
          "metadata": {}
        }
      ]
    },
    {
      "cell_type": "markdown",
      "source": [
        "## Optimisation and Evaluation of Baseline Models"
      ],
      "metadata": {
        "id": "eF678X3-s0N5"
      }
    },
    {
      "cell_type": "markdown",
      "source": [
        "To ensure fairness and to reduce overfitting, each baseline model was validated using Stratified K-Fold Cross-Validation, configured with 10 folds through the StratifiedKFold(n_splits=10) class. The cross_val_score() function was used to calculate the mean accuracy and standard deviation across all folds. This approach ensured that the class balance was maintained in each training-validation split and that the model's performance was consistent across multiple subsets of the data."
      ],
      "metadata": {
        "id": "m_o8ZkQ8GirD"
      }
    },
    {
      "cell_type": "code",
      "source": [
        "#implementing Stratified K-Fold validation to ensure that the class distribution for each fold stays the same as the original dataset- using 10 as it provides a more detailed evalution\n",
        "kf = StratifiedKFold(n_splits=10, shuffle=True, random_state=42)    #shuffle=True randomises the data before splitting into different folds\n",
        "\n",
        "#creating a function to cross-validate the models\n",
        "def cross_validate_model(model, X, y, model_name):\n",
        "    scores = cross_val_score(model, X, y, cv=kf, scoring='accuracy')\n",
        "    print(f\"{model_name} Cross-Validation Results\")\n",
        "    print(f\"Mean Accuracy: {scores.mean():.4f}\")\n",
        "    print(f\"Standard Deviation: {scores.std():.4f}\")\n",
        "\n",
        "#applying the function to cross-validate the baseline models before hyper parameter tuning\n",
        "print(\"----- Baseline Cross-Validation Results -----\")\n",
        "cross_validate_model(decision_tree_model, X_train, y_train, \"\\nBaseline Decision Tree\")\n",
        "cross_validate_model(random_forest_model, X_train, y_train, \"\\nBaseline Random Forest\")\n",
        "cross_validate_model(svm_model, X_train, y_train, \"\\nBaseline SVM\")"
      ],
      "metadata": {
        "colab": {
          "base_uri": "https://localhost:8080/"
        },
        "id": "zVnKSPI88kV3",
        "outputId": "e83ecd33-9346-4913-ca0f-528bedfc831d"
      },
      "execution_count": null,
      "outputs": [
        {
          "output_type": "stream",
          "name": "stdout",
          "text": [
            "----- Baseline Cross-Validation Results -----\n",
            "\n",
            "Baseline Decision Tree Cross-Validation Results\n",
            "Mean Accuracy: 0.8812\n",
            "Standard Deviation: 0.0100\n",
            "\n",
            "Baseline Random Forest Cross-Validation Results\n",
            "Mean Accuracy: 0.9182\n",
            "Standard Deviation: 0.0085\n",
            "\n",
            "Baseline SVM Cross-Validation Results\n",
            "Mean Accuracy: 0.8406\n",
            "Standard Deviation: 0.0107\n"
          ]
        }
      ]
    },
    {
      "cell_type": "markdown",
      "source": [
        "After validating the individual models, hyperparameter tuning was performed using GridSearchCV to find the optimal configurations for each model. For Decision Tree, the grid included parameters such as max_depth and min_samples_split. For Random Forest, the search considered combinations of n_estimators, max_depth, and min_samples_leaf. For SVM, the tuning stage confirmed the use of a linear kernel. Each search was performed with 5-fold cross-validation, and the best parameters were applied to retrain the optimised models. Performance metrics were re-evaluated after tuning, which showed improvement across all models, especially in the case of Random Forest and SVM."
      ],
      "metadata": {
        "id": "I3syYr0kGrwC"
      }
    },
    {
      "cell_type": "code",
      "source": [
        "#performing hyperparameter tuning for the Decision Tree model - Gemini assisted with debugging, no prompts were given but suggested fixes were used.\n",
        "decision_tree_params = {'max_depth': [5, 10, 15], 'min_samples_split': [2, 5, 10]}      #max_depth controls how deep the tree grows\n",
        "decision_tree_grid = GridSearchCV(DecisionTreeClassifier(random_state=42), decision_tree_params, cv=5, scoring='accuracy')    #setting up GridSearch so that it can find the best combination of hyperparamters\n",
        "decision_tree_grid.fit(X_train, y_train)    #using GridSearch to find the best parameters\n",
        "best_decision_tree = decision_tree_grid.best_estimator_     #finding the best Decision Tree model\n",
        "\n",
        "#performing hyperparameter tuning for the Random Forest model\n",
        "random_forest_params = {'n_estimators': [100, 200, 300], 'max_depth': [10, 20, None]}   #n_estimators is the number of trees in the forest and max_depth controls the maximum depth for each tree\n",
        "random_forest_grid = GridSearchCV(RandomForestClassifier(random_state=42), random_forest_params, cv=5, scoring='accuracy')    #setting up GridSearch again to the find the best parameters for the Random Forest\n",
        "random_forest_grid.fit(X_train, y_train)\n",
        "best_random_forest = random_forest_grid.best_estimator_\n",
        "\n",
        "#performing hyperparameter tuning for the SVM model\n",
        "svm_params = {'C': [0.1, 1, 10], 'kernel': ['linear', 'rbf']}   #C controls the effectiveness of the regularisation to make sure it's not overfitting or underfitting to the data\n",
        "svm_grid = GridSearchCV(SVC(probability=True, random_state=42), svm_params, cv=5, scoring='accuracy')\n",
        "svm_grid.fit(X_train, y_train)\n",
        "best_svm = svm_grid.best_estimator_\n",
        "\n",
        "print(\"Optimised Decision Tree, Random Forest & SVM trained successfully!\")"
      ],
      "metadata": {
        "colab": {
          "base_uri": "https://localhost:8080/"
        },
        "id": "okI3TJ6_9Vyn",
        "outputId": "b7b2b734-a4ea-44c8-d67a-2d7a7f302c2e"
      },
      "execution_count": null,
      "outputs": [
        {
          "output_type": "stream",
          "name": "stdout",
          "text": [
            "Optimised Decision Tree, Random Forest & SVM trained successfully!\n"
          ]
        }
      ]
    },
    {
      "cell_type": "code",
      "source": [
        "#printing out the achieved evaluation metrics of the optimised models\n",
        "print(\"----- Optimised Model Evaluation -----\")\n",
        "evaluate_model(y_test, best_decision_tree.predict(X_test), \"\\nOptimised Decision Tree\")\n",
        "evaluate_model(y_test, best_random_forest.predict(X_test), \"\\nOptimised Random Forest\")\n",
        "evaluate_model(y_test, best_svm.predict(X_test), \"\\nOptimised SVM\")"
      ],
      "metadata": {
        "colab": {
          "base_uri": "https://localhost:8080/"
        },
        "id": "KMjKjLy5_mbG",
        "outputId": "7f5eaa6b-aaab-4e6d-e181-36bc70f48cf5"
      },
      "execution_count": null,
      "outputs": [
        {
          "output_type": "stream",
          "name": "stdout",
          "text": [
            "----- Optimised Model Evaluation -----\n",
            "\n",
            "Optimised Decision Tree Evaluation\n",
            "Accuracy: 0.8888888888888888\n",
            "Precision: 0.8861859252823632\n",
            "Recall: 0.8923884514435696\n",
            "F1-Score: 0.8892763731473409\n",
            "\n",
            "Optimised Random Forest Evaluation\n",
            "Accuracy: 0.9251968503937008\n",
            "Precision: 0.916095890410959\n",
            "Recall: 0.9361329833770778\n",
            "F1-Score: 0.926006057983557\n",
            "\n",
            "Optimised SVM Evaluation\n",
            "Accuracy: 0.9002624671916011\n",
            "Precision: 0.8967909800520382\n",
            "Recall: 0.9046369203849519\n",
            "F1-Score: 0.9006968641114983\n"
          ]
        }
      ]
    },
    {
      "cell_type": "code",
      "source": [
        "#plotting a bar graph to visualise the optimised performance metrics for each of the models\n",
        "models = [\"Optimised Decision Tree\", \"Optimised Random Forest\", \"Optimised SVM\"]\n",
        "\n",
        "#setting the achieved optimised evaluation metrics\n",
        "accuracy = [0.8888, 0.9251, 0.9003]\n",
        "precision = [0.8862, 0.9161, 0.8968]\n",
        "recall = [0.8924, 0.9361, 0.9046]\n",
        "f1 = [0.8893, 0.9260, 0.9007]\n",
        "\n",
        "bar_width = 0.2\n",
        "\n",
        "x = np.arange(len(models))\n",
        "\n",
        "#setting pretty colors instead of boring ones\n",
        "colors = [\"#A7C7E7\", \"#FFB6C1\", \"#B5EAD7\", \"#FFC3A0\"]\n",
        "\n",
        "#plotting the graph\n",
        "plt.figure(figsize=(10, 6))\n",
        "plt.bar(x - bar_width*1.5, accuracy, width=bar_width, label=\"Accuracy\", color='#A7C7E7')\n",
        "plt.bar(x - bar_width/2, precision, width=bar_width, label=\"Precision\", color='#FFB6C1')\n",
        "plt.bar(x + bar_width/2, recall, width=bar_width, label=\"Recall\", color='#B5EAD7')\n",
        "plt.bar(x + bar_width*1.5, f1, width=bar_width, label=\"F1-Score\", color='#FFC3A0')\n",
        "\n",
        "#settings the labels and formatting\n",
        "plt.xlabel(\"Optimised Models\", fontsize=12)\n",
        "plt.ylabel(\"Scores\", fontsize=12)\n",
        "plt.title(\"Optimised Model Performance Comparison\", fontsize=14)\n",
        "plt.xticks(ticks=x, labels=models, fontsize=12)\n",
        "plt.ylim(0.8, 1.0)  # Set the y-axis range for better visualization\n",
        "plt.legend()\n",
        "plt.grid(axis=\"y\", linestyle=\"--\", alpha=0.7)\n",
        "\n",
        "#printing the graph\n",
        "plt.show()"
      ],
      "metadata": {
        "colab": {
          "base_uri": "https://localhost:8080/",
          "height": 573
        },
        "id": "NSSEWJOrnnD7",
        "outputId": "a93b657f-d30a-4305-83fe-13810f770d47"
      },
      "execution_count": null,
      "outputs": [
        {
          "output_type": "display_data",
          "data": {
            "text/plain": [
              "<Figure size 1000x600 with 1 Axes>"
            ],
            "image/png": "[encoded data removed]"
          },
          "metadata": {}
        }
      ]
    },
    {
      "cell_type": "markdown",
      "source": [
        "## Implementation and Evaluation of Hybrid Model"
      ],
      "metadata": {
        "id": "LCknLhlis74Y"
      }
    },
    {
      "cell_type": "markdown",
      "source": [
        "Now that the optimised individual classifiers were developed, the next stage involved implementing a hybrid model using a stacking method. The hybrid model was built using Random Forest and SVM as these were the best performing models, and XGBoost as the meta-classifier. XGBoost was selected due to its high predictive accuracy, and its ability to perform regularisation well, which helps prevent overfitting in hybrid models. This was implemented by generating class probability predictions from both base models using the .predict_proba() method. The predicted probability of the phishing class, was extracted using slicing rf_preds = best_rf.predict_proba(X_test)[:, 1] and svm_preds = best_svm.predict_proba(X_test)[:, 1]. These predictions were then joined to form a new feature matrix: stacked_features = np.column_stack((rf_preds, svm_preds)). This stacked feature matrix serves as the input to the meta-classifier, allowing it to learn higher-level patterns by utilising the combined strengths of the individual models to make more accurate final predictions."
      ],
      "metadata": {
        "id": "v6_wnIbAGxeq"
      }
    },
    {
      "cell_type": "code",
      "source": [
        "#generating stacked predictions from the optimised models - random forest and SVM as they were the best performing models. Gemini assisted with debugging, no prompts were given but suggested fixes were used.\n",
        "random_forest_preds = best_random_forest.predict_proba(X_test)[:, 1]     #predicting the class probabilities for the test set using the optimisied random forest model - only the probability of the legitimate class is extracted here\n",
        "svm_preds = best_svm.predict_proba(X_test)[:, 1]    #predicting the class probabilities for the test set using the optimisied SVM model - only the probability of the legitimate class is extracted here\n",
        "\n",
        "#stacking the predictions as new feature set - combinied two arrays to create a two-feature matrix\n",
        "stacked_features = np.column_stack((random_forest_preds, svm_preds))\n",
        "\n",
        "#training the classifier - XGBoost\n",
        "meta_model = XGBClassifier( eval_metric=\"logloss\", random_state=42)     #logloss is used as this is a binary classification task\n",
        "meta_model.fit(stacked_features, y_test)      #fitting the XGBoost classifier using the stacked preditions as features\n",
        "\n",
        "#making final predictions with hybrid model to determine URL authenticity\n",
        "stacked_preds = meta_model.predict(stacked_features)\n",
        "\n",
        "print(\"Hybrid model trained successfully!\")"
      ],
      "metadata": {
        "colab": {
          "base_uri": "https://localhost:8080/"
        },
        "id": "I9cUxZiq_o9V",
        "outputId": "36dd8822-801d-4357-eb1d-39748749b2db"
      },
      "execution_count": null,
      "outputs": [
        {
          "output_type": "stream",
          "name": "stdout",
          "text": [
            "Hybrid model trained successfully!\n"
          ]
        }
      ]
    },
    {
      "cell_type": "code",
      "source": [
        "#creating a function to cross-validate the hybrid model to evaluate how well it generalises - Gemini assisted with debugging, no prompts were given but suggested fixes were used.\n",
        "def cross_validate_hybrid_model():\n",
        "    hybrid_scores = []      #initialising an empty list to store the accuracy scores for each fold\n",
        "\n",
        "    #iterating over the training and validation indices\n",
        "    for train_index, test_index in kf.split(X_train, y_train):\n",
        "        #training the optimised models on current training fold\n",
        "        best_random_forest.fit(X_train.iloc[train_index], y_train.iloc[train_index])\n",
        "        best_svm.fit(X_train.iloc[train_index], y_train.iloc[train_index])\n",
        "\n",
        "        random_forest_preds_fold = best_random_forest.predict_proba(X_train.iloc[test_index])[:, 1]   #generating the predictions for the validation fold using the random forest\n",
        "        svm_preds_fold = best_svm.predict_proba(X_train.iloc[test_index])[:, 1]                     #generating the same by usinf the SVM\n",
        "        stacked_features_fold = np.column_stack((random_forest_preds_fold, svm_preds_fold))      #stacking the predictions into a new feature set for the hybrid model\n",
        "\n",
        "        meta_model.fit(stacked_features_fold, y_train.iloc[test_index])   #training the XGBoost on stacked features\n",
        "        stacked_preds_fold = meta_model.predict(stacked_features_fold)    #making predictions with the model using the stacked features\n",
        "\n",
        "        #calculating the accuracy for this fold\n",
        "        hybrid_scores.append(accuracy_score(y_train.iloc[test_index], stacked_preds_fold))\n",
        "\n",
        "    #printing the overall cross-validation results for the hybrid model\n",
        "    print(\"----- Optimised Hybrid Model Cross-Validation Results -----\")\n",
        "    print(f\"Mean Accuracy: {np.mean(hybrid_scores):.4f}\")\n",
        "    print(f\"Standard Deviation: {np.std(hybrid_scores):.4f}\")\n",
        "\n",
        "#running the cross-validation function for hybrid model\n",
        "cross_validate_hybrid_model()"
      ],
      "metadata": {
        "colab": {
          "base_uri": "https://localhost:8080/"
        },
        "id": "WyAuDcng_t4V",
        "outputId": "fd17909d-f5c2-486e-985a-36399ef1f080"
      },
      "execution_count": null,
      "outputs": [
        {
          "output_type": "stream",
          "name": "stdout",
          "text": [
            "----- Optimised Hybrid Model Cross-Validation Results -----\n",
            "Mean Accuracy: 0.9891\n",
            "Standard Deviation: 0.0039\n"
          ]
        }
      ]
    },
    {
      "cell_type": "code",
      "source": [
        "#evaluating the final performance of the hybrid model\n",
        "evaluate_model(y_test, stacked_preds, \"Optimised Hybrid Model\")"
      ],
      "metadata": {
        "colab": {
          "base_uri": "https://localhost:8080/"
        },
        "id": "ymeO2cxHAbgt",
        "outputId": "b7ec16b3-6c2c-43cf-8042-c95c0e094ec1"
      },
      "execution_count": null,
      "outputs": [
        {
          "output_type": "stream",
          "name": "stdout",
          "text": [
            "Optimised Hybrid Model Evaluation\n",
            "Accuracy: 0.9676290463692039\n",
            "Precision: 0.9659982563208369\n",
            "Recall: 0.9693788276465442\n",
            "F1-Score: 0.9676855895196507\n"
          ]
        }
      ]
    },
    {
      "cell_type": "code",
      "source": [
        "#plotting a bar graph to visualise the performance metrics of the individual optimised models and the hybrid model\n",
        "models = [\"Optimised Decision Tree\", \"Optimised Random Forest\", \"Optimised SVM\", \"Optimised Hybrid\"]\n",
        "\n",
        "#setting the achieved evaluation metrics of the optimised and hybrid models\n",
        "accuracy = [0.8888, 0.9251, 0.9003, 0.9676]\n",
        "precision = [0.8862, 0.9161, 0.8968, 0.9659]\n",
        "recall = [0.8924, 0.9361, 0.9046, 0.9693]\n",
        "f1 = [0.8893, 0.9260, 0.9007, 0.9676]\n",
        "\n",
        "bar_width = 0.2\n",
        "\n",
        "x = np.arange(len(models))\n",
        "\n",
        "#using pretty colours!\n",
        "colors = [\"#A7C7E7\", \"#FFB6C1\", \"#B5EAD7\", \"#FFC3A0\"]\n",
        "\n",
        "#plotting the bar graph\n",
        "plt.figure(figsize=(15, 6))\n",
        "plt.bar(x - bar_width*1.5, accuracy, width=bar_width, label=\"Accuracy\", color='#A7C7E7')\n",
        "plt.bar(x - bar_width/2, precision, width=bar_width, label=\"Precision\", color='#FFB6C1')\n",
        "plt.bar(x + bar_width/2, recall, width=bar_width, label=\"Recall\", color='#B5EAD7')\n",
        "plt.bar(x + bar_width*1.5, f1, width=bar_width, label=\"F1-Score\", color='#FFC3A0')\n",
        "\n",
        "#setting the labels and formatting\n",
        "plt.xlabel(\"Optimised Models\", fontsize=12)\n",
        "plt.ylabel(\"Scores\", fontsize=12)\n",
        "plt.title(\"Optimised Model Performance Comparison\", fontsize=14)\n",
        "plt.xticks(ticks=x, labels=models, fontsize=12)\n",
        "plt.ylim(0.8, 1.0)  # Set the y-axis range for better visualization\n",
        "plt.legend()\n",
        "plt.grid(axis=\"y\", linestyle=\"--\", alpha=0.7)\n",
        "\n",
        "#displaying the bar graph\n",
        "plt.show()"
      ],
      "metadata": {
        "colab": {
          "base_uri": "https://localhost:8080/",
          "height": 573
        },
        "id": "f5cd5LScpUWS",
        "outputId": "b7bf0e82-c100-4064-ab06-4033677dd16b"
      },
      "execution_count": null,
      "outputs": [
        {
          "output_type": "display_data",
          "data": {
            "text/plain": [
              "<Figure size 1500x600 with 1 Axes>"
            ],
            "image/png": "[encoded data removed]"
          },
          "metadata": {}
        }
      ]
    },
    {
      "cell_type": "markdown",
      "source": [
        "## Evaluation of Real-Time Efficiency"
      ],
      "metadata": {
        "id": "_H42bla0AdiD"
      }
    },
    {
      "cell_type": "markdown",
      "source": [
        "Finally, the optimised individual models and the hybrid model were compared in terms of classification performance and inference time. To evaluate real-time efficiency, inference time was measured using Python’s time module."
      ],
      "metadata": {
        "id": "Zj_ZZoi-G_sq"
      }
    },
    {
      "cell_type": "code",
      "source": [
        "#creating a function to calculate the prediction time of each of the models to evaluate real-time efficieny in a corporate environment\n",
        "def measure_time(model, X, model_name):\n",
        "    start_time = time.time()      #recording the starting time before predications\n",
        "    model.predict(X)\n",
        "    end_time = time.time()      #recording the end time after the predictions are generated\n",
        "\n",
        "    execution_time = (end_time - start_time) * 1000  #formula to calculate the inference time in milliseconds\n",
        "    print(f\"{model_name} Inference Time: {execution_time:.3f} ms\")\n",
        "    return execution_time\n",
        "\n",
        "print(\"----- Real-Time Efficiency (Inference Time in ms) -----\")\n",
        "\n",
        "#applying the function to each of the optimised individual models to calculate the inference speed and stores it\n",
        "decision_tree_time = measure_time(best_decision_tree, X_test, \"\\nOptimised Decision Tree\")\n",
        "random_forest_time = measure_time(best_random_forest, X_test, \"Optimised Random Forest\")\n",
        "svm_time = measure_time(best_svm, X_test, \"Optimised SVM\")\n",
        "\n",
        "#determing the inference time for the hybrid model\n",
        "#generating the stacked predictions needed for the hybrid model\n",
        "random_forest_preds = best_random_forest.predict_proba(X_test)[:, 1]\n",
        "svm_preds = best_svm.predict_proba(X_test)[:, 1]\n",
        "stacked_features = np.column_stack((random_forest_preds, svm_preds))\n",
        "\n",
        "#applying the function to the hybrid model to calculate the inference time using the stacked features and stores it\n",
        "hybrid_time = measure_time(meta_model, stacked_features, \"Optimised Hybrid Model\")"
      ],
      "metadata": {
        "colab": {
          "base_uri": "https://localhost:8080/"
        },
        "id": "kpPK5OnytLPI",
        "outputId": "611dd7d4-4bb0-4161-e1f7-c3f05db9a1cc"
      },
      "execution_count": null,
      "outputs": [
        {
          "output_type": "stream",
          "name": "stdout",
          "text": [
            "----- Real-Time Efficiency (Inference Time in ms) -----\n",
            "\n",
            "Optimised Decision Tree Inference Time: 3.464 ms\n",
            "Optimised Random Forest Inference Time: 79.863 ms\n",
            "Optimised SVM Inference Time: 393.625 ms\n",
            "Optimised Hybrid Model Inference Time: 5.022 ms\n"
          ]
        }
      ]
    },
    {
      "cell_type": "code",
      "source": [
        "#plotting a bar graph to visualise the inference speed of the individual optimised models and the hybrid model\n",
        "models = [\"Optimised Decision Tree\", \"Optimised Random Forest\", \"Optimised SVM\", \"Optimised Hybrid Model\"]\n",
        "\n",
        "#setting the achieved inference times in milliseconds for each of the models\n",
        "inference_times = [4.171, 121.191, 1617.081, 5.600]\n",
        "\n",
        "#using the pretty colours again\n",
        "pastel_colors = [\"#A7C7E7\", \"#FFB6C1\", \"#B5EAD7\", \"#FFC3A0\"]\n",
        "\n",
        "#plotting the bar graph\n",
        "plt.figure(figsize=(10, 6))\n",
        "plt.bar(models, inference_times, color=pastel_colors, width=0.6)\n",
        "\n",
        "#setting the labels and formatting\n",
        "plt.xlabel(\"Optimised Models\", fontsize=12)\n",
        "plt.ylabel(\"Inference Time (ms)\", fontsize=12)\n",
        "plt.title(\"Real-Time Efficiency of Optimised Models\", fontsize=14)\n",
        "plt.yscale(\"log\")  # Use log scale to handle large differences\n",
        "plt.grid(axis=\"y\", linestyle=\"--\", alpha=0.7)\n",
        "\n",
        "#displaying the bar graph\n",
        "plt.show()"
      ],
      "metadata": {
        "colab": {
          "base_uri": "https://localhost:8080/",
          "height": 569
        },
        "id": "3vgqGvSIvioZ",
        "outputId": "3ec0a35a-7e30-471e-9f01-e2e3352e77ed"
      },
      "execution_count": null,
      "outputs": [
        {
          "output_type": "display_data",
          "data": {
            "text/plain": [
              "<Figure size 1000x600 with 1 Axes>"
            ],
            "image/png": "[encoded data removed]"
          },
          "metadata": {}
        }
      ]
    },
    {
      "cell_type": "markdown",
      "source": [
        "##References"
      ],
      "metadata": {
        "id": "zYt2Oc2TRjGA"
      }
    },
    {
      "cell_type": "code",
      "source": [
        "#References\n",
        "#Ansari, A. (2017, April 30). Classifying data using Support Vector Machines(SVMs) in Python. GeeksforGeeks. https://www.geeksforgeeks.org/classifying-data-using-support-vector-machinessvms-in-python/\n",
        "\n",
        "#Badrinarayan, M. (2024, March 26). Decision trees: Split Methods & Hyperparameter Tuning. Analytics Vidhya. https://www.analyticsvidhya.com/blog/2024/03/decision-trees-split-methods-hyperparameter-tuning/\n",
        "\n",
        "#Bharataameriya. (2025, March 5). Using XGBoost in PyTorch for enhanced model performance. Medium. https://medium.com/@bharataameriya/using-xgboost-in-pytorch-for-enhanced-model-performance-d4c9f9e10225\n",
        "\n",
        "#Code, M. A. (2024, August 1). Mastering PyTorch inference time measurement - Mark Ai code. Medium. https://medium.com/@MarkAiCode/mastering-pytorch-inference-time-measurement-22da0eaebab7\n",
        "\n",
        "#Dominguez, D. (2025, January 27). Understanding inference-time compute - Daniel Dominguez. Medium. https://dominguezdaniel.medium.com/understanding-inference-time-compute-c6c6ca2e17a8\n",
        "\n",
        "#Haas, L. (2020). Hybrid Rule-Based Machine Learning With scikit-learn. Towardsdatascience.com. https://towardsdatascience.com/hybrid-rule-based-machine-learning-with-scikit-learn-9cb9841bebf2/\n",
        "\n",
        "#How will I hybrid a random forest- support vector machine, in context with option pricing? (n.d.). Quora. Retrieved 28 April 2025, from https://www.quora.com/How-will-I-hybrid-a-random-forest-support-vector-machine-in-context-with-option-pricing\n",
        "\n",
        "#Kaabar, S. (2024, August 5). Combining two machine learning models for enhanced predictions. All About Trading! https://abouttrading.substack.com/p/combining-two-machine-learning-models-e30\n",
        "\n",
        "#Kharwal, A. (2024, November 4). Hybrid Machine Learning Model with Python. Thecleverprogrammer; Aman Kharwal. https://thecleverprogrammer.com/2024/11/04/hybrid-machine-learning-model-with-python/\n",
        "\n",
        "#Koehrsen, W. (2018, January 10). Hyperparameter tuning the random forest in python - TDS archive - medium. TDS Archive. https://medium.com/data-science/hyperparameter-tuning-the-random-forest-in-python-using-scikit-learn-28d2aa77dd74\n",
        "\n",
        "#Mulani, S. (2022, August 3). Using StandardScaler() function to standardize python data. Digitalocean.com; DigitalOcean. https://www.digitalocean.com/community/tutorials/standardscaler-function-in-python\n",
        "\n",
        "#Navlani, A. (2024). Decision Tree Classification in Python Tutorial. Datacamp.com. https://www.datacamp.com/tutorial/decision-tree-classification-python\n",
        "\n",
        "#Pramod, O. (2023, January 29). Decision trees. Medium. https://medium.com/@ompramod9921/decision-trees-8e2391f93fa7\n",
        "\n",
        "#Shafi, A. (2024). Random Forest Classification with Scikit-Learn. Datacamp.com. https://www.datacamp.com/tutorial/random-forests-classifier-python?dc_referrer=https%3A%2F%2Fwww.google.com%2F\n",
        "\n",
        "#Shah, R. (2021, June 23). Tune hyperparameters with GridSearchCV. Analytics Vidhya. https://www.analyticsvidhya.com/blog/2021/06/tune-hyperparameters-with-gridsearchcv/\n",
        "\n",
        "#Siddharth, M. (2021, August 8). How to create a bar plot in Python: A step-by-step guide (updated 2025). Analytics Vidhya. https://www.analyticsvidhya.com/blog/2021/08/understanding-bar-plots-in-python-beginners-guide-to-data-visualization/\n",
        "\n",
        "#StratifiedKFold. (n.d.). Scikit-Learn. Retrieved 28 April 2025, from https://scikit-learn.org/stable/modules/generated/sklearn.model_selection.StratifiedKFold.html\n",
        "\n",
        "#tejashreeganesan Follow Improve. (2024, April 16). How to tune a Decision Tree in Hyperparameter tuning. GeeksforGeeks. https://www.geeksforgeeks.org/how-to-tune-a-decision-tree-in-hyperparameter-tuning/\n",
        "\n",
        "#Tuychiev, B. (2023). Using XGBoost in Python Tutorial. Datacamp.com. https://www.datacamp.com/tutorial/xgboost-in-python\n",
        "\n",
        "#vaibhavkumar303 Follow Improve. (2023, July 31). RBF SVM parameters in scikit learn. GeeksforGeeks. https://www.geeksforgeeks.org/rbf-svm-parameters-in-scikit-learn/\n",
        "\n",
        "#Wong, K. J. (2023). Feature Encoding Techniques in Machine Learning with Python Implementation. Towardsdatascience.com. https://towardsdatascience.com/feature-encoding-techniques-in-machine-learning-with-python-implementation-dbf933e64aa/"
      ],
      "metadata": {
        "id": "Ier-V0RtRo12"
      },
      "execution_count": null,
      "outputs": []
    }
  ]
}